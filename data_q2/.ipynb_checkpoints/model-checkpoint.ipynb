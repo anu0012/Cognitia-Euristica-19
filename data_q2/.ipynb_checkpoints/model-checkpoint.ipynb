{
 "cells": [
  {
   "cell_type": "code",
   "execution_count": 42,
   "metadata": {},
   "outputs": [
    {
     "name": "stderr",
     "output_type": "stream",
     "text": [
      "/Users/anuragsharma/anaconda3/lib/python3.6/importlib/_bootstrap.py:219: RuntimeWarning: numpy.dtype size changed, may indicate binary incompatibility. Expected 96, got 88\n",
      "  return f(*args, **kwds)\n"
     ]
    }
   ],
   "source": [
    "import numpy as np\n",
    "import pandas as pd\n",
    "from catboost import CatBoostClassifier\n",
    "import xgboost as xgb\n",
    "import seaborn as sns\n",
    "from sklearn import linear_model,tree,ensemble"
   ]
  },
  {
   "cell_type": "code",
   "execution_count": 26,
   "metadata": {},
   "outputs": [],
   "source": [
    "train = pd.read_csv('data_train.csv')\n",
    "test = pd.read_csv('data_test.csv')"
   ]
  },
  {
   "cell_type": "code",
   "execution_count": 27,
   "metadata": {},
   "outputs": [
    {
     "data": {
      "text/html": [
       "<div>\n",
       "<style scoped>\n",
       "    .dataframe tbody tr th:only-of-type {\n",
       "        vertical-align: middle;\n",
       "    }\n",
       "\n",
       "    .dataframe tbody tr th {\n",
       "        vertical-align: top;\n",
       "    }\n",
       "\n",
       "    .dataframe thead th {\n",
       "        text-align: right;\n",
       "    }\n",
       "</style>\n",
       "<table border=\"1\" class=\"dataframe\">\n",
       "  <thead>\n",
       "    <tr style=\"text-align: right;\">\n",
       "      <th></th>\n",
       "      <th>feature-1</th>\n",
       "      <th>feature-2</th>\n",
       "      <th>feature-3</th>\n",
       "      <th>feature-4</th>\n",
       "      <th>feature-5</th>\n",
       "      <th>feature-6</th>\n",
       "      <th>feature-7</th>\n",
       "      <th>feature-8</th>\n",
       "      <th>feature-9</th>\n",
       "      <th>feature-10</th>\n",
       "      <th>label</th>\n",
       "    </tr>\n",
       "  </thead>\n",
       "  <tbody>\n",
       "    <tr>\n",
       "      <th>0</th>\n",
       "      <td>20.306201</td>\n",
       "      <td>7.246964</td>\n",
       "      <td>30.746074</td>\n",
       "      <td>70.738222</td>\n",
       "      <td>82.089549</td>\n",
       "      <td>44.537815</td>\n",
       "      <td>56.908667</td>\n",
       "      <td>17.261529</td>\n",
       "      <td>27.450978</td>\n",
       "      <td>42.425691</td>\n",
       "      <td>7</td>\n",
       "    </tr>\n",
       "    <tr>\n",
       "      <th>1</th>\n",
       "      <td>26.752616</td>\n",
       "      <td>16.396760</td>\n",
       "      <td>30.277686</td>\n",
       "      <td>39.271342</td>\n",
       "      <td>80.597014</td>\n",
       "      <td>31.302522</td>\n",
       "      <td>76.580799</td>\n",
       "      <td>50.305849</td>\n",
       "      <td>63.137250</td>\n",
       "      <td>29.514480</td>\n",
       "      <td>3</td>\n",
       "    </tr>\n",
       "    <tr>\n",
       "      <th>2</th>\n",
       "      <td>23.448827</td>\n",
       "      <td>14.291499</td>\n",
       "      <td>31.549011</td>\n",
       "      <td>57.424320</td>\n",
       "      <td>86.567170</td>\n",
       "      <td>37.394956</td>\n",
       "      <td>78.454333</td>\n",
       "      <td>44.758231</td>\n",
       "      <td>59.215678</td>\n",
       "      <td>34.578621</td>\n",
       "      <td>4</td>\n",
       "    </tr>\n",
       "    <tr>\n",
       "      <th>3</th>\n",
       "      <td>21.998386</td>\n",
       "      <td>10.850202</td>\n",
       "      <td>32.920712</td>\n",
       "      <td>65.819695</td>\n",
       "      <td>86.567170</td>\n",
       "      <td>39.075630</td>\n",
       "      <td>74.004684</td>\n",
       "      <td>50.591210</td>\n",
       "      <td>58.431376</td>\n",
       "      <td>38.060054</td>\n",
       "      <td>3</td>\n",
       "    </tr>\n",
       "    <tr>\n",
       "      <th>4</th>\n",
       "      <td>26.188554</td>\n",
       "      <td>10.364373</td>\n",
       "      <td>31.381732</td>\n",
       "      <td>63.537360</td>\n",
       "      <td>98.507465</td>\n",
       "      <td>36.554622</td>\n",
       "      <td>66.042155</td>\n",
       "      <td>52.787542</td>\n",
       "      <td>75.294116</td>\n",
       "      <td>40.018760</td>\n",
       "      <td>6</td>\n",
       "    </tr>\n",
       "  </tbody>\n",
       "</table>\n",
       "</div>"
      ],
      "text/plain": [
       "   feature-1  feature-2  feature-3  feature-4  feature-5  feature-6  \\\n",
       "0  20.306201   7.246964  30.746074  70.738222  82.089549  44.537815   \n",
       "1  26.752616  16.396760  30.277686  39.271342  80.597014  31.302522   \n",
       "2  23.448827  14.291499  31.549011  57.424320  86.567170  37.394956   \n",
       "3  21.998386  10.850202  32.920712  65.819695  86.567170  39.075630   \n",
       "4  26.188554  10.364373  31.381732  63.537360  98.507465  36.554622   \n",
       "\n",
       "   feature-7  feature-8  feature-9  feature-10  label  \n",
       "0  56.908667  17.261529  27.450978   42.425691      7  \n",
       "1  76.580799  50.305849  63.137250   29.514480      3  \n",
       "2  78.454333  44.758231  59.215678   34.578621      4  \n",
       "3  74.004684  50.591210  58.431376   38.060054      3  \n",
       "4  66.042155  52.787542  75.294116   40.018760      6  "
      ]
     },
     "execution_count": 27,
     "metadata": {},
     "output_type": "execute_result"
    }
   ],
   "source": [
    "train.head()"
   ]
  },
  {
   "cell_type": "code",
   "execution_count": 28,
   "metadata": {},
   "outputs": [
    {
     "data": {
      "text/plain": [
       "<matplotlib.axes._subplots.AxesSubplot at 0x11236ada0>"
      ]
     },
     "execution_count": 28,
     "metadata": {},
     "output_type": "execute_result"
    },
    {
     "data": {
      "image/png": "[encoded data removed]",
      "text/plain": [
       "<Figure size 432x288 with 1 Axes>"
      ]
     },
     "metadata": {},
     "output_type": "display_data"
    }
   ],
   "source": [
    "sns.countplot(train['label'])"
   ]
  },
  {
   "cell_type": "code",
   "execution_count": 29,
   "metadata": {},
   "outputs": [
    {
     "data": {
      "text/plain": [
       "feature-1     0\n",
       "feature-2     0\n",
       "feature-3     0\n",
       "feature-4     0\n",
       "feature-5     0\n",
       "feature-6     0\n",
       "feature-7     0\n",
       "feature-8     0\n",
       "feature-9     0\n",
       "feature-10    0\n",
       "label         0\n",
       "dtype: int64"
      ]
     },
     "execution_count": 29,
     "metadata": {},
     "output_type": "execute_result"
    }
   ],
   "source": [
    "train.isnull().sum()"
   ]
  },
  {
   "cell_type": "code",
   "execution_count": 30,
   "metadata": {},
   "outputs": [],
   "source": [
    "features = [x for x in train.columns if x not in ['label']]\n",
    "target = train['label']"
   ]
  },
  {
   "cell_type": "code",
   "execution_count": 72,
   "metadata": {},
   "outputs": [
    {
     "name": "stdout",
     "output_type": "stream",
     "text": [
      "0.9872940954829035\n"
     ]
    }
   ],
   "source": [
    "model = xgb.XGBClassifier(n_estimators=900, max_depth=8, subsample=0.5, colsample_bytree=0.8)\n",
    "from sklearn.model_selection import cross_val_score\n",
    "from sklearn.metrics import accuracy_score, make_scorer\n",
    "print(cross_val_score(model, train[features], target, cv=5, scoring=make_scorer(accuracy_score)).mean())"
   ]
  },
  {
   "cell_type": "code",
   "execution_count": 73,
   "metadata": {},
   "outputs": [],
   "source": [
    "model = xgb.XGBClassifier(n_estimators=900, max_depth=8, subsample=0.5, colsample_bytree=0.8)#CatBoostClassifier(verbose=False,loss_function='MultiClass')\n",
    "model.fit(train[features], target)\n",
    "pred = model.predict(test)"
   ]
  },
  {
   "cell_type": "code",
   "execution_count": 74,
   "metadata": {},
   "outputs": [],
   "source": [
    "pred = pred.astype(np.int)\n",
    "#pred = [item for sublist in pred for item in sublist]\n",
    "#pred = pred + 1"
   ]
  },
  {
   "cell_type": "code",
   "execution_count": 75,
   "metadata": {},
   "outputs": [],
   "source": [
    "## make submission\n",
    "sub = pd.DataFrame()\n",
    "sub['label'] = pred\n",
    "sub.to_csv('result.csv', index=False,header=False)"
   ]
  },
  {
   "cell_type": "code",
   "execution_count": 76,
   "metadata": {},
   "outputs": [
    {
     "data": {
      "text/html": [
       "<div>\n",
       "<style scoped>\n",
       "    .dataframe tbody tr th:only-of-type {\n",
       "        vertical-align: middle;\n",
       "    }\n",
       "\n",
       "    .dataframe tbody tr th {\n",
       "        vertical-align: top;\n",
       "    }\n",
       "\n",
       "    .dataframe thead th {\n",
       "        text-align: right;\n",
       "    }\n",
       "</style>\n",
       "<table border=\"1\" class=\"dataframe\">\n",
       "  <thead>\n",
       "    <tr style=\"text-align: right;\">\n",
       "      <th></th>\n",
       "      <th>label</th>\n",
       "    </tr>\n",
       "  </thead>\n",
       "  <tbody>\n",
       "    <tr>\n",
       "      <th>0</th>\n",
       "      <td>6</td>\n",
       "    </tr>\n",
       "    <tr>\n",
       "      <th>1</th>\n",
       "      <td>2</td>\n",
       "    </tr>\n",
       "    <tr>\n",
       "      <th>2</th>\n",
       "      <td>4</td>\n",
       "    </tr>\n",
       "    <tr>\n",
       "      <th>3</th>\n",
       "      <td>6</td>\n",
       "    </tr>\n",
       "    <tr>\n",
       "      <th>4</th>\n",
       "      <td>1</td>\n",
       "    </tr>\n",
       "  </tbody>\n",
       "</table>\n",
       "</div>"
      ],
      "text/plain": [
       "   label\n",
       "0      6\n",
       "1      2\n",
       "2      4\n",
       "3      6\n",
       "4      1"
      ]
     },
     "execution_count": 76,
     "metadata": {},
     "output_type": "execute_result"
    }
   ],
   "source": [
    "sub.head()"
   ]
  },
  {
   "cell_type": "code",
   "execution_count": 77,
   "metadata": {},
   "outputs": [
    {
     "data": {
      "text/plain": [
       "<matplotlib.axes._subplots.AxesSubplot at 0x1118691d0>"
      ]
     },
     "execution_count": 77,
     "metadata": {},
     "output_type": "execute_result"
    },
    {
     "data": {
      "image/png": "[encoded data removed]",
      "text/plain": [
       "<Figure size 432x288 with 1 Axes>"
      ]
     },
     "metadata": {},
     "output_type": "display_data"
    }
   ],
   "source": [
    "sns.countplot(sub['label'])"
   ]
  },
  {
   "cell_type": "code",
   "execution_count": null,
   "metadata": {},
   "outputs": [],
   "source": []
  }
 ],
 "metadata": {
  "kernelspec": {
   "display_name": "Python 3",
   "language": "python",
   "name": "python3"
  },
  "language_info": {
   "codemirror_mode": {
    "name": "ipython",
    "version": 3
   },
   "file_extension": ".py",
   "mimetype": "text/x-python",
   "name": "python",
   "nbconvert_exporter": "python",
   "pygments_lexer": "ipython3",
   "version": "3.6.5"
  }
 },
 "nbformat": 4,
 "nbformat_minor": 2
}
