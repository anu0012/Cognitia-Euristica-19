{
 "cells": [
  {
   "cell_type": "code",
   "execution_count": 1,
   "metadata": {},
   "outputs": [],
   "source": [
    "import glob\n",
    "import os\n",
    "import sys\n",
    "import re\n",
    "import spacy\n",
    "import nltk\n",
    "import json"
   ]
  },
  {
   "cell_type": "code",
   "execution_count": 12,
   "metadata": {},
   "outputs": [],
   "source": [
    "en = spacy.load('en')\n",
    "\n",
    "for file in glob.glob('*.txt'):\n",
    "    details = {\n",
    "        \"name\":[],\n",
    "        \"email\":[],\n",
    "        \"phone\":[],\n",
    "        \"edu\":[],\n",
    "        \"exp\":[]\n",
    "    }\n",
    "\n",
    "    phones = []\n",
    "    emails = []\n",
    "\n",
    "    sents = open(file, \"r\").read().lower()#en(open(file).read())\n",
    "    \n",
    "    # Extract Phone Numbers\n",
    "    phone_numbers = None\n",
    "    r = re.compile(r'(\\d{3}[-\\.\\s]??\\d{3}[-\\.\\s]??\\d{4}|\\(\\d{3}\\)\\s*\\d{3}[-\\.\\s]??\\d{4}|\\d{3}[-\\.\\s]??\\d{4})')\n",
    "    phone_numbers = r.findall(sents)\n",
    "    phones.extend(phone_numbers)\n",
    "    \n",
    "    # Extract Email\n",
    "    emails = None\n",
    "    r = re.compile(r'[\\w\\.-]+@[\\w\\.-]+')\n",
    "    emails = r.findall(sents)\n",
    "    emails.extend(emails)\n",
    "    \n",
    "    # Extract Names\n",
    "    names = []\n",
    "    nameList = open(\"names.txt\", \"r\").read().lower()\n",
    "    nameList = set(nameList.split())\n",
    "    tokens = nltk.word_tokenize(sents)\n",
    "    for i in tokens:\n",
    "        if len(names) > 0:\n",
    "            break\n",
    "        if i in nameList:\n",
    "            names.append(i)\n",
    "    \n",
    "    details['name'] = list(set(names))\n",
    "    details['phone'] = list(set(phones))\n",
    "    details['email'] = list(set(emails))\n",
    "    filename = file.split('.txt')\n",
    "    f = open(filename[0]+'.json', mode=\"w\")\n",
    "    f.write(json.dumps(details))\n",
    "    f.flush()\n",
    "    f.close()"
   ]
  },
  {
   "cell_type": "code",
   "execution_count": null,
   "metadata": {},
   "outputs": [],
   "source": []
  }
 ],
 "metadata": {
  "kernelspec": {
   "display_name": "Python 3",
   "language": "python",
   "name": "python3"
  },
  "language_info": {
   "codemirror_mode": {
    "name": "ipython",
    "version": 3
   },
   "file_extension": ".py",
   "mimetype": "text/x-python",
   "name": "python",
   "nbconvert_exporter": "python",
   "pygments_lexer": "ipython3",
   "version": "3.6.5"
  }
 },
 "nbformat": 4,
 "nbformat_minor": 2
}
